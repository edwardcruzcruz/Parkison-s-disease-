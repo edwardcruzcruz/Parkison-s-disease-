{
 "cells": [
  {
   "cell_type": "code",
   "execution_count": 2,
   "metadata": {},
   "outputs": [],
   "source": [
    "#version 0.7 al 14/12/2019\n",
    "\n",
    "from tkinter import *\n",
    "from tkinter import filedialog"
   ]
  },
  {
   "cell_type": "code",
   "execution_count": 3,
   "metadata": {},
   "outputs": [],
   "source": [
    "def abrir_archivo():\n",
    "    archivo_abierto=filedialog.askopenfilename(initialdir = \"/\",\n",
    "                title = \"Procesar\",filetypes = ((\"nii files\",\"*.nii\"),\n",
    "                (\"all files\",\"*.*\")))\n",
    "    print(archivo_abierto)"
   ]
  },
  {
   "cell_type": "code",
   "execution_count": 4,
   "metadata": {},
   "outputs": [
    {
     "name": "stdout",
     "output_type": "stream",
     "text": [
      "\n"
     ]
    }
   ],
   "source": [
    "#Creación de objeto gráfico\n",
    "root = Tk()\n",
    "root.title('Brainy')\n",
    "root.geometry('{}x{}'.format(720, 640))\n",
    "\n",
    "#Imagen e informacion general\n",
    "center = Frame(root, bg='gray2', width=50, height=40)\n",
    "#vistas de lóbulos\n",
    "btm_frame2 = Frame(root, bg='lavender', width=450, height=150, pady=3)\n",
    "\n",
    "# ubica los contenedores\n",
    "root.grid_rowconfigure(1, weight=1)\n",
    "root.grid_columnconfigure(0, weight=1)\n",
    "\n",
    "\n",
    "center.grid(row=1, sticky=\"nsew\")\n",
    "btm_frame2.grid(row=4, sticky=\"ew\")\n",
    "\n",
    "center.grid_rowconfigure(0, weight=1)\n",
    "center.grid_columnconfigure(1, weight=1)\n",
    "\n",
    "#Imagen\n",
    "ctr_mid = Frame(center, bg='black', width=330, height=100)\n",
    "#Data general\n",
    "ctr_right = Frame(center, bg='gray', width=120, height=100, padx=3, pady=3)\n",
    "\n",
    "ctr_mid.grid(row=0, column=1, sticky=\"nsew\")\n",
    "ctr_right.grid(row=0, column=2, sticky=\"ns\")\n",
    "\n",
    "#Botón de procesamiento\n",
    "Button(text=\"PROCESAR\",bg=\"pale green\",command=abrir_archivo).place(x=625,y=10)\n",
    "\n",
    "#Run\n",
    "root.mainloop()"
   ]
  }
 ],
 "metadata": {
  "kernelspec": {
   "display_name": "Python 3",
   "language": "python",
   "name": "python3"
  },
  "language_info": {
   "codemirror_mode": {
    "name": "ipython",
    "version": 3
   },
   "file_extension": ".py",
   "mimetype": "text/x-python",
   "name": "python",
   "nbconvert_exporter": "python",
   "pygments_lexer": "ipython3",
   "version": "3.7.4"
  }
 },
 "nbformat": 4,
 "nbformat_minor": 2
}
